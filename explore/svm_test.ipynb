{
 "metadata": {
  "name": "",
  "signature": "sha256:5236a6e6e5a8f4a042125bd285b193f6983f5dc8d6688392c45d850202342d49"
 },
 "nbformat": 3,
 "nbformat_minor": 0,
 "worksheets": [
  {
   "cells": [
    {
     "cell_type": "code",
     "collapsed": false,
     "input": [
      "from sklearn import datasets\n",
      "iris = datasets.load_iris()\n",
      "digits = datasets.load_digits()\n",
      "print digits['images'][1]\n",
      "print digits['images'][0].shape\n",
      "print digits.target[0]\n",
      "print digits.target[9]\n",
      "print digits.target[17]"
     ],
     "language": "python",
     "metadata": {},
     "outputs": [
      {
       "output_type": "stream",
       "stream": "stdout",
       "text": [
        "[[  0.   0.   0.  12.  13.   5.   0.   0.]\n",
        " [  0.   0.   0.  11.  16.   9.   0.   0.]\n",
        " [  0.   0.   3.  15.  16.   6.   0.   0.]\n",
        " [  0.   7.  15.  16.  16.   2.   0.   0.]\n",
        " [  0.   0.   1.  16.  16.   3.   0.   0.]\n",
        " [  0.   0.   1.  16.  16.   6.   0.   0.]\n",
        " [  0.   0.   1.  16.  16.   6.   0.   0.]\n",
        " [  0.   0.   0.  11.  16.  10.   0.   0.]]\n",
        "(8, 8)\n",
        "0\n",
        "9\n",
        "7\n"
       ]
      }
     ],
     "prompt_number": 18
    },
    {
     "cell_type": "code",
     "collapsed": false,
     "input": [
      "from sklearn import svm\n",
      "clf = svm.SVC(gamma=0.001, C=100.)\n",
      "\n",
      "print len(digits.data[:-1])\n",
      "print len(digits.data)\n",
      "print len(digits.target[:-1])\n",
      "clf.fit(digits.data[:-1], digits.target[:-1])\n",
      "print clf.predict(digits.data[-1:])"
     ],
     "language": "python",
     "metadata": {},
     "outputs": [
      {
       "output_type": "stream",
       "stream": "stdout",
       "text": [
        "1796\n",
        "1797\n",
        "1796\n",
        "[8]"
       ]
      },
      {
       "output_type": "stream",
       "stream": "stdout",
       "text": [
        "\n"
       ]
      }
     ],
     "prompt_number": 13
    },
    {
     "cell_type": "code",
     "collapsed": false,
     "input": [
      "import cv2\n",
      "import numpy as np\n",
      "\n",
      "print cv2.__version__\n",
      "img = cv2.imread('test.jpg')\n",
      "#img = cv2.imread('test_real.jpg')\n",
      "gray= cv2.cvtColor(img,cv2.COLOR_BGR2GRAY)\n",
      "\n",
      "#sift = cv2.xfeatures2d.SIFT_create()\n",
      "#sift = cv2.FeatureDetector_create(\"SIFT\")\n",
      "#kp = sift.detect(gray, None)\n",
      "surfDetector = cv2.SIFT(100)#cv2.FeatureDetector_create(\"SURF\")\n",
      "#surfDescriptorExtractor = cv2.DescriptorExtractor_create(\"SURF\")\n",
      "kp = surfDetector.detect(img)\n",
      "#(kp, descriptors) = surfDescriptorExtractor.compute(img, keypoints)\n",
      "print type(kp)\n",
      "print len(kp)\n",
      "print kp[0]\n",
      "\n",
      "img=cv2.drawKeypoints(gray, kp)\n",
      "\n",
      "cv2.imwrite('sift_keypoints.jpg',img)"
     ],
     "language": "python",
     "metadata": {},
     "outputs": [
      {
       "output_type": "stream",
       "stream": "stdout",
       "text": [
        "2.4.11\n",
        "<type 'list'>"
       ]
      },
      {
       "output_type": "stream",
       "stream": "stdout",
       "text": [
        "\n",
        "60\n",
        "<KeyPoint 0x7f8eec16b720>\n"
       ]
      },
      {
       "metadata": {},
       "output_type": "pyout",
       "prompt_number": 37,
       "text": [
        "True"
       ]
      }
     ],
     "prompt_number": 37
    },
    {
     "cell_type": "code",
     "collapsed": false,
     "input": [],
     "language": "python",
     "metadata": {},
     "outputs": []
    }
   ],
   "metadata": {}
  }
 ]
}
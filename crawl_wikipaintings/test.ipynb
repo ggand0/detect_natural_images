{
 "cells": [
  {
   "cell_type": "code",
   "execution_count": 1,
   "metadata": {
    "collapsed": false
   },
   "outputs": [],
   "source": [
    "#%load_ext autoreload\n",
    "#%autoreload 2\n",
    "#%pylab\n",
    "%matplotlib inline\n",
    "import pandas as pd\n",
    "import vislab\n",
    "import vislab.dataset\n",
    "import vislab.datasets\n",
    "import vislab.dataset_viz\n",
    "import vislab.dataset_stats\n",
    "import re\n",
    "import sys"
   ]
  },
  {
   "cell_type": "code",
   "execution_count": 2,
   "metadata": {
    "collapsed": false
   },
   "outputs": [
    {
     "data": {
      "text/html": [
       "<div>\n",
       "<table border=\"1\" class=\"dataframe\">\n",
       "  <thead>\n",
       "    <tr style=\"text-align: right;\">\n",
       "      <th></th>\n",
       "      <th>artist_slug</th>\n",
       "      <th>artwork_slug</th>\n",
       "      <th>image_id</th>\n",
       "      <th>page_url</th>\n",
       "    </tr>\n",
       "    <tr>\n",
       "      <th>image_id</th>\n",
       "      <th></th>\n",
       "      <th></th>\n",
       "      <th></th>\n",
       "      <th></th>\n",
       "    </tr>\n",
       "  </thead>\n",
       "  <tbody>\n",
       "    <tr>\n",
       "      <th>nicholas-roerich_buddha-s-test-1927</th>\n",
       "      <td>nicholas-roerich</td>\n",
       "      <td>buddha-s-test-1927</td>\n",
       "      <td>nicholas-roerich_buddha-s-test-1927</td>\n",
       "      <td>http://www.wikipaintings.org/en/nicholas-roeri...</td>\n",
       "    </tr>\n",
       "    <tr>\n",
       "      <th>sam-francis_2-impressions-swatch-1992</th>\n",
       "      <td>sam-francis</td>\n",
       "      <td>2-impressions-swatch-1992</td>\n",
       "      <td>sam-francis_2-impressions-swatch-1992</td>\n",
       "      <td>http://www.wikipaintings.org/en/sam-francis/2-...</td>\n",
       "    </tr>\n",
       "    <tr>\n",
       "      <th>pierre-auguste-renoir_a-young-woman-1875</th>\n",
       "      <td>pierre-auguste-renoir</td>\n",
       "      <td>a-young-woman-1875</td>\n",
       "      <td>pierre-auguste-renoir_a-young-woman-1875</td>\n",
       "      <td>http://www.wikipaintings.org/en/pierre-auguste...</td>\n",
       "    </tr>\n",
       "    <tr>\n",
       "      <th>sam-francis_abstract-composition-sf-61-1967</th>\n",
       "      <td>sam-francis</td>\n",
       "      <td>abstract-composition-sf-61-1967</td>\n",
       "      <td>sam-francis_abstract-composition-sf-61-1967</td>\n",
       "      <td>http://www.wikipaintings.org/en/sam-francis/ab...</td>\n",
       "    </tr>\n",
       "    <tr>\n",
       "      <th>jesus-rafael-soto_abstract-composition-with-silver-and-magenta-1970</th>\n",
       "      <td>jesus-rafael-soto</td>\n",
       "      <td>abstract-composition-with-silver-and-magenta-1970</td>\n",
       "      <td>jesus-rafael-soto_abstract-composition-with-si...</td>\n",
       "      <td>http://www.wikipaintings.org/en/jesus-rafael-s...</td>\n",
       "    </tr>\n",
       "  </tbody>\n",
       "</table>\n",
       "</div>"
      ],
      "text/plain": [
       "                                                              artist_slug  \\\n",
       "image_id                                                                    \n",
       "nicholas-roerich_buddha-s-test-1927                      nicholas-roerich   \n",
       "sam-francis_2-impressions-swatch-1992                         sam-francis   \n",
       "pierre-auguste-renoir_a-young-woman-1875            pierre-auguste-renoir   \n",
       "sam-francis_abstract-composition-sf-61-1967                   sam-francis   \n",
       "jesus-rafael-soto_abstract-composition-with-sil...      jesus-rafael-soto   \n",
       "\n",
       "                                                                                         artwork_slug  \\\n",
       "image_id                                                                                                \n",
       "nicholas-roerich_buddha-s-test-1927                                                buddha-s-test-1927   \n",
       "sam-francis_2-impressions-swatch-1992                                       2-impressions-swatch-1992   \n",
       "pierre-auguste-renoir_a-young-woman-1875                                           a-young-woman-1875   \n",
       "sam-francis_abstract-composition-sf-61-1967                           abstract-composition-sf-61-1967   \n",
       "jesus-rafael-soto_abstract-composition-with-sil...  abstract-composition-with-silver-and-magenta-1970   \n",
       "\n",
       "                                                                                             image_id  \\\n",
       "image_id                                                                                                \n",
       "nicholas-roerich_buddha-s-test-1927                               nicholas-roerich_buddha-s-test-1927   \n",
       "sam-francis_2-impressions-swatch-1992                           sam-francis_2-impressions-swatch-1992   \n",
       "pierre-auguste-renoir_a-young-woman-1875                     pierre-auguste-renoir_a-young-woman-1875   \n",
       "sam-francis_abstract-composition-sf-61-1967               sam-francis_abstract-composition-sf-61-1967   \n",
       "jesus-rafael-soto_abstract-composition-with-sil...  jesus-rafael-soto_abstract-composition-with-si...   \n",
       "\n",
       "                                                                                             page_url  \n",
       "image_id                                                                                               \n",
       "nicholas-roerich_buddha-s-test-1927                 http://www.wikipaintings.org/en/nicholas-roeri...  \n",
       "sam-francis_2-impressions-swatch-1992               http://www.wikipaintings.org/en/sam-francis/2-...  \n",
       "pierre-auguste-renoir_a-young-woman-1875            http://www.wikipaintings.org/en/pierre-auguste...  \n",
       "sam-francis_abstract-composition-sf-61-1967         http://www.wikipaintings.org/en/sam-francis/ab...  \n",
       "jesus-rafael-soto_abstract-composition-with-sil...  http://www.wikipaintings.org/en/jesus-rafael-s...  "
      ]
     },
     "execution_count": 2,
     "metadata": {},
     "output_type": "execute_result"
    }
   ],
   "source": [
    "basic_df = vislab.datasets.wikipaintings.get_basic_df()\n",
    "basic_df.iloc[:5]"
   ]
  },
  {
   "cell_type": "code",
   "execution_count": 3,
   "metadata": {
    "collapsed": false
   },
   "outputs": [
    {
     "data": {
      "text/plain": [
       "pandas.core.series.Series"
      ]
     },
     "execution_count": 3,
     "metadata": {},
     "output_type": "execute_result"
    }
   ],
   "source": [
    "type(basic_df.iloc[0])"
   ]
  },
  {
   "cell_type": "code",
   "execution_count": 4,
   "metadata": {
    "collapsed": false
   },
   "outputs": [
    {
     "data": {
      "text/plain": [
       "u'http://www.wikipaintings.org/en/nicholas-roerich/buddha-s-test-1927'"
      ]
     },
     "execution_count": 4,
     "metadata": {},
     "output_type": "execute_result"
    }
   ],
   "source": [
    "basic_df.iloc[0].page_url"
   ]
  },
  {
   "cell_type": "code",
   "execution_count": 5,
   "metadata": {
    "collapsed": false
   },
   "outputs": [],
   "source": [
    "#basic_df.iloc[0].image_url"
   ]
  },
  {
   "cell_type": "code",
   "execution_count": 6,
   "metadata": {
    "collapsed": false
   },
   "outputs": [
    {
     "name": "stdout",
     "output_type": "stream",
     "text": [
      "(101086, 11)\n"
     ]
    },
    {
     "data": {
      "text/html": [
       "<div>\n",
       "<table border=\"1\" class=\"dataframe\">\n",
       "  <thead>\n",
       "    <tr style=\"text-align: right;\">\n",
       "      <th></th>\n",
       "      <th>image_id</th>\n",
       "      <th>artist_slug</th>\n",
       "      <th>artwork_slug</th>\n",
       "      <th>date</th>\n",
       "      <th>genre</th>\n",
       "      <th>style</th>\n",
       "      <th>technique</th>\n",
       "      <th>keywords</th>\n",
       "      <th>name</th>\n",
       "      <th>page_url</th>\n",
       "      <th>image_url</th>\n",
       "    </tr>\n",
       "  </thead>\n",
       "  <tbody>\n",
       "    <tr>\n",
       "      <th>paul-reed_12-1964</th>\n",
       "      <td>paul-reed_12-1964</td>\n",
       "      <td>paul-reed</td>\n",
       "      <td>12-1964</td>\n",
       "      <td>1964</td>\n",
       "      <td>abstract painting</td>\n",
       "      <td>Abstract Expressionism</td>\n",
       "      <td>NaN</td>\n",
       "      <td>NaN</td>\n",
       "      <td>#12</td>\n",
       "      <td>http://www.wikipaintings.org/en/paul-reed/12-1964</td>\n",
       "      <td>http://uploads5.wikipaintings.org/images/paul-...</td>\n",
       "    </tr>\n",
       "    <tr>\n",
       "      <th>john-mccracken_10s</th>\n",
       "      <td>john-mccracken_10s</td>\n",
       "      <td>john-mccracken</td>\n",
       "      <td>10s</td>\n",
       "      <td>NaN</td>\n",
       "      <td>installation</td>\n",
       "      <td>Light and Space</td>\n",
       "      <td>NaN</td>\n",
       "      <td>NaN</td>\n",
       "      <td>10S</td>\n",
       "      <td>http://www.wikipaintings.org/en/john-mccracken...</td>\n",
       "      <td>http://uploads6.wikipaintings.org/images/john-...</td>\n",
       "    </tr>\n",
       "    <tr>\n",
       "      <th>nicholas-roerich_buddha-s-test-1927</th>\n",
       "      <td>nicholas-roerich_buddha-s-test-1927</td>\n",
       "      <td>nicholas-roerich</td>\n",
       "      <td>buddha-s-test-1927</td>\n",
       "      <td>1927</td>\n",
       "      <td>religious painting</td>\n",
       "      <td>Symbolism</td>\n",
       "      <td>NaN</td>\n",
       "      <td>[seas-and-oceans,  Buddhism,  Tibetian Mytholo...</td>\n",
       "      <td></td>\n",
       "      <td>http://www.wikipaintings.org/en/nicholas-roeri...</td>\n",
       "      <td>http://uploads5.wikipaintings.org/images/nicho...</td>\n",
       "    </tr>\n",
       "    <tr>\n",
       "      <th>sam-francis_2-impressions-swatch-1992</th>\n",
       "      <td>sam-francis_2-impressions-swatch-1992</td>\n",
       "      <td>sam-francis</td>\n",
       "      <td>2-impressions-swatch-1992</td>\n",
       "      <td>1992</td>\n",
       "      <td>abstract painting</td>\n",
       "      <td>Lyrical Abstraction</td>\n",
       "      <td>lithograph</td>\n",
       "      <td>NaN</td>\n",
       "      <td>2 Impressions: Swatch</td>\n",
       "      <td>http://www.wikipaintings.org/en/sam-francis/2-...</td>\n",
       "      <td>http://uploads7.wikipaintings.org/images/sam-f...</td>\n",
       "    </tr>\n",
       "    <tr>\n",
       "      <th>pierre-auguste-renoir_a-young-woman-1875</th>\n",
       "      <td>pierre-auguste-renoir_a-young-woman-1875</td>\n",
       "      <td>pierre-auguste-renoir</td>\n",
       "      <td>a-young-woman-1875</td>\n",
       "      <td>1875</td>\n",
       "      <td>portrait</td>\n",
       "      <td>Impressionism</td>\n",
       "      <td>NaN</td>\n",
       "      <td>NaN</td>\n",
       "      <td>A Young Woman</td>\n",
       "      <td>http://www.wikipaintings.org/en/pierre-auguste...</td>\n",
       "      <td>http://uploads1.wikipaintings.org/images/pierr...</td>\n",
       "    </tr>\n",
       "  </tbody>\n",
       "</table>\n",
       "</div>"
      ],
      "text/plain": [
       "                                                                          image_id  \\\n",
       "paul-reed_12-1964                                                paul-reed_12-1964   \n",
       "john-mccracken_10s                                              john-mccracken_10s   \n",
       "nicholas-roerich_buddha-s-test-1927            nicholas-roerich_buddha-s-test-1927   \n",
       "sam-francis_2-impressions-swatch-1992        sam-francis_2-impressions-swatch-1992   \n",
       "pierre-auguste-renoir_a-young-woman-1875  pierre-auguste-renoir_a-young-woman-1875   \n",
       "\n",
       "                                                    artist_slug  \\\n",
       "paul-reed_12-1964                                     paul-reed   \n",
       "john-mccracken_10s                               john-mccracken   \n",
       "nicholas-roerich_buddha-s-test-1927            nicholas-roerich   \n",
       "sam-francis_2-impressions-swatch-1992               sam-francis   \n",
       "pierre-auguste-renoir_a-young-woman-1875  pierre-auguste-renoir   \n",
       "\n",
       "                                                       artwork_slug  date  \\\n",
       "paul-reed_12-1964                                           12-1964  1964   \n",
       "john-mccracken_10s                                              10s   NaN   \n",
       "nicholas-roerich_buddha-s-test-1927              buddha-s-test-1927  1927   \n",
       "sam-francis_2-impressions-swatch-1992     2-impressions-swatch-1992  1992   \n",
       "pierre-auguste-renoir_a-young-woman-1875         a-young-woman-1875  1875   \n",
       "\n",
       "                                                       genre  \\\n",
       "paul-reed_12-1964                          abstract painting   \n",
       "john-mccracken_10s                              installation   \n",
       "nicholas-roerich_buddha-s-test-1927       religious painting   \n",
       "sam-francis_2-impressions-swatch-1992      abstract painting   \n",
       "pierre-auguste-renoir_a-young-woman-1875            portrait   \n",
       "\n",
       "                                                           style   technique  \\\n",
       "paul-reed_12-1964                         Abstract Expressionism         NaN   \n",
       "john-mccracken_10s                               Light and Space         NaN   \n",
       "nicholas-roerich_buddha-s-test-1927                    Symbolism         NaN   \n",
       "sam-francis_2-impressions-swatch-1992        Lyrical Abstraction  lithograph   \n",
       "pierre-auguste-renoir_a-young-woman-1875           Impressionism         NaN   \n",
       "\n",
       "                                                                                   keywords  \\\n",
       "paul-reed_12-1964                                                                       NaN   \n",
       "john-mccracken_10s                                                                      NaN   \n",
       "nicholas-roerich_buddha-s-test-1927       [seas-and-oceans,  Buddhism,  Tibetian Mytholo...   \n",
       "sam-francis_2-impressions-swatch-1992                                                   NaN   \n",
       "pierre-auguste-renoir_a-young-woman-1875                                                NaN   \n",
       "\n",
       "                                                            name  \\\n",
       "paul-reed_12-1964                                            #12   \n",
       "john-mccracken_10s                                           10S   \n",
       "nicholas-roerich_buddha-s-test-1927                                \n",
       "sam-francis_2-impressions-swatch-1992      2 Impressions: Swatch   \n",
       "pierre-auguste-renoir_a-young-woman-1875           A Young Woman   \n",
       "\n",
       "                                                                                   page_url  \\\n",
       "paul-reed_12-1964                         http://www.wikipaintings.org/en/paul-reed/12-1964   \n",
       "john-mccracken_10s                        http://www.wikipaintings.org/en/john-mccracken...   \n",
       "nicholas-roerich_buddha-s-test-1927       http://www.wikipaintings.org/en/nicholas-roeri...   \n",
       "sam-francis_2-impressions-swatch-1992     http://www.wikipaintings.org/en/sam-francis/2-...   \n",
       "pierre-auguste-renoir_a-young-woman-1875  http://www.wikipaintings.org/en/pierre-auguste...   \n",
       "\n",
       "                                                                                  image_url  \n",
       "paul-reed_12-1964                         http://uploads5.wikipaintings.org/images/paul-...  \n",
       "john-mccracken_10s                        http://uploads6.wikipaintings.org/images/john-...  \n",
       "nicholas-roerich_buddha-s-test-1927       http://uploads5.wikipaintings.org/images/nicho...  \n",
       "sam-francis_2-impressions-swatch-1992     http://uploads7.wikipaintings.org/images/sam-f...  \n",
       "pierre-auguste-renoir_a-young-woman-1875  http://uploads1.wikipaintings.org/images/pierr...  "
      ]
     },
     "execution_count": 6,
     "metadata": {},
     "output_type": "execute_result"
    }
   ],
   "source": [
    "df = vislab.datasets.wikipaintings.get_df()\n",
    "print df.shape\n",
    "df.iloc[:5]"
   ]
  },
  {
   "cell_type": "code",
   "execution_count": null,
   "metadata": {
    "collapsed": false
   },
   "outputs": [],
   "source": [
    "#df.iloc[0].image_url"
   ]
  },
  {
   "cell_type": "code",
   "execution_count": null,
   "metadata": {
    "collapsed": false
   },
   "outputs": [],
   "source": [
    "#%matplotlib\n",
    "#%pylab\n",
    "from skimage.io import imread, imshow\n",
    "#from PIL import Image\n",
    "imshow(imread(df.iloc[0]['image_url']))"
   ]
  },
  {
   "cell_type": "code",
   "execution_count": null,
   "metadata": {
    "collapsed": false
   },
   "outputs": [],
   "source": [
    "dir_path = '/Users/pentiumx/Projects/ms_data/wikipainting/' # an absolute path is needed\n",
    "name = df.iloc[0]['image_id']\n",
    "print name\n",
    "print path\n",
    "path = dir_path+name\n",
    "img = imread(df.iloc[0]['image_url'])\n",
    "#imsave(path, imread(df.iloc[0]['image_url']))\n",
    "imshow(img)"
   ]
  },
  {
   "cell_type": "code",
   "execution_count": null,
   "metadata": {
    "collapsed": false
   },
   "outputs": [],
   "source": [
    "import matplotlib.pyplot as plt\n",
    "matplotlib.image.imsave(path, img)"
   ]
  },
  {
   "cell_type": "code",
   "execution_count": null,
   "metadata": {
    "collapsed": false
   },
   "outputs": [],
   "source": [
    "import os\n",
    "# Create dirs and save images\n",
    "dir_path = '/Users/pentiumx/Projects/ms_data/wikipainting' # an absolute path is needed\n",
    "\n",
    "for index in xrange(0,9999):\n",
    "    name = df.iloc[index]['image_id']\n",
    "    style = df.iloc[index]['style']\n",
    "    style_path = dir_path + '/' + style\n",
    "    # create or get a style dir\n",
    "    if not os.path.exists(style_path):\n",
    "        os.makedirs(style_path)\n",
    "    \n",
    "    image_path = style_path+'/'+name\n",
    "    img = imread(df.iloc[0]['image_url'])\n",
    "    matplotlib.image.imsave(image_path, img)\n",
    "    if index % 100 == 0:\n",
    "        print index\n",
    "    \n",
    "    "
   ]
  },
  {
   "cell_type": "code",
   "execution_count": 13,
   "metadata": {
    "collapsed": false
   },
   "outputs": [
    {
     "name": "stdout",
     "output_type": "stream",
     "text": [
      "0\n",
      "100\n",
      "200\n",
      "300\n",
      "400\n",
      "500\n",
      "600\n",
      "700\n",
      "800\n",
      "900\n",
      "1000\n",
      "1100\n",
      "1200\n",
      "1300\n",
      "1400\n",
      "1500\n",
      "1600\n",
      "1700\n",
      "1800\n",
      "1900\n",
      "2000\n",
      "2100\n",
      "2200\n",
      "2300\n",
      "2400\n",
      "2500\n",
      "2600\n",
      "2700\n",
      "2800\n",
      "2900\n",
      "3000\n",
      "3100\n",
      "3200\n",
      "3300\n",
      "3400\n",
      "3500\n",
      "3600\n",
      "3700\n",
      "3800\n",
      "3900\n",
      "4000\n",
      "4100\n",
      "4200\n",
      "4300\n",
      "4400\n",
      "4500\n",
      "4600\n",
      "4700\n",
      "4800\n",
      "4900\n",
      "5000\n",
      "5100\n",
      "5200\n",
      "5300\n",
      "5400\n",
      "5500\n",
      "5600\n",
      "5700\n",
      "5800\n",
      "5900\n",
      "6000\n",
      "6100\n",
      "6200\n",
      "6300\n",
      "6400\n",
      "6500\n",
      "6600\n",
      "6700\n",
      "6800\n",
      "6900\n",
      "7000\n",
      "7100\n",
      "7200\n",
      "7300\n",
      "7400\n",
      "7500\n",
      "7600\n",
      "7700\n",
      "7800\n",
      "7900\n",
      "8000\n",
      "8100\n",
      "8200\n",
      "8300\n",
      "8400\n",
      "8500\n",
      "8600\n",
      "8700\n",
      "8800\n",
      "8900\n",
      "9000\n",
      "9100\n",
      "9200\n",
      "9300\n",
      "9400\n",
      "9500\n",
      "9600\n",
      "9700\n",
      "9800\n",
      "9900\n",
      "DONE!\n"
     ]
    }
   ],
   "source": [
    "# using redis ver.\n",
    "import os\n",
    "from rq import Queue\n",
    "from worker import conn\n",
    "import worker_funcs\n",
    "q = Queue(connection=conn)\n",
    "import time\n",
    "\n",
    "# Create dirs and save images\n",
    "dir_path = '/Users/pentiumx/Projects/ms_data/wikipainting' # an absolute path is needed\n",
    "\n",
    "#def save_image(image_url, image_path):\n",
    "#    img = imread(image_url)\n",
    "#    matplotlib.image.imsave(image_path, img)\n",
    "\n",
    "for index in xrange(0,9999):\n",
    "    name = df.iloc[index]['image_id']\n",
    "    style = df.iloc[index]['style']\n",
    "    style_path = dir_path + '/' + style\n",
    "    # create or get a style dir\n",
    "    if not os.path.exists(style_path):\n",
    "        os.makedirs(style_path)\n",
    "    image_path = style_path+'/'+name\n",
    "    result = q.enqueue(worker_funcs.save_image, df.iloc[index]['image_url'], image_path)\n",
    "    time.sleep(0.01)\n",
    "    if index % 100 == 0:\n",
    "        print index\n",
    "print 'DONE!'"
   ]
  },
  {
   "cell_type": "code",
   "execution_count": null,
   "metadata": {
    "collapsed": true
   },
   "outputs": [],
   "source": []
  }
 ],
 "metadata": {
  "kernelspec": {
   "display_name": "Python 2",
   "language": "python",
   "name": "python2"
  },
  "language_info": {
   "codemirror_mode": {
    "name": "ipython",
    "version": 2
   },
   "file_extension": ".py",
   "mimetype": "text/x-python",
   "name": "python",
   "nbconvert_exporter": "python",
   "pygments_lexer": "ipython2",
   "version": "2.7"
  }
 },
 "nbformat": 4,
 "nbformat_minor": 0
}
